{
  "nbformat": 4,
  "nbformat_minor": 0,
  "metadata": {
    "colab": {
      "provenance": [],
      "authorship_tag": "ABX9TyO+11rmTH0Jhs6KnRpXo9JI",
      "include_colab_link": true
    },
    "kernelspec": {
      "name": "python3",
      "display_name": "Python 3"
    },
    "language_info": {
      "name": "python"
    }
  },
  "cells": [
    {
      "cell_type": "markdown",
      "metadata": {
        "id": "view-in-github",
        "colab_type": "text"
      },
      "source": [
        "<a href=\"https://colab.research.google.com/github/RuslansAleksejevs/algorithms-and-structures/blob/main/contests/biweekly100.ipynb\" target=\"_parent\"><img src=\"https://colab.research.google.com/assets/colab-badge.svg\" alt=\"Open In Colab\"/></a>"
      ]
    },
    {
      "cell_type": "markdown",
      "source": [
        "Во время контеста решил 2 задачи из 4."
      ],
      "metadata": {
        "id": "e957lRKQ8VCc"
      }
    },
    {
      "cell_type": "markdown",
      "source": [
        "# Мои решения"
      ],
      "metadata": {
        "id": "qOS11lMp8cIM"
      }
    },
    {
      "cell_type": "markdown",
      "source": [
        "##### **Задача 1.**\n",
        "\n",
        "https://leetcode.com/problems/distribute-money-to-maximum-children/"
      ],
      "metadata": {
        "id": "2QuhcR478gA_"
      }
    },
    {
      "cell_type": "markdown",
      "source": [
        "Нельзя давать такую хуету в качестве Q1.\n",
        "\n",
        "Мое решение:\n",
        "\n",
        "Даю каждому чайлду по баксу. Не получается -- закончили с -1. Дальше можем считать, что детей минимум 2 (это дано), и условие, что все получили хоть что-то, выполнено.\n",
        "\n",
        "Итерируемся по всем детям и обрабатываем все содержательные случаи. А именно, каждый раз, когда можем дать ребенку 7 баксов, делаем это и увеличиваем ответ на 1. Если у нас остается всего 3 бакса и мы на последнем ребенке, то даем их какому-то другому ребенку (портим хорошего ребенка с 8 долларами) и отнимаем от ответа 1. Если у нас остается 3 бакса и мы не на последнем ребенке, то просто раздаем их детям, получившим по 1 баксу так, чтобы никого не испортить. Наконец, если у нас остается много денег, а всем детям мы уже дали по 8 монет, отнимаем от ответа 1, жертвуя каким-то ребенком (весь остаток бабла даем ему). Как только потратили все деньги, выводим ответ.\n",
        "\n",
        "Задача будто по своей сути костыльная.\n",
        "\n",
        "Время: $O(n)$, где $n$ -- это children.\n",
        " \n",
        "Память: $O(1)$."
      ],
      "metadata": {
        "id": "IpkaEZVC9dC5"
      }
    },
    {
      "cell_type": "code",
      "source": [
        "class Solution:\n",
        "    def distMoney(self, money: int, children: int) -> int:\n",
        "        res=0\n",
        "        money-=children\n",
        "        if(money<0):\n",
        "            return -1\n",
        "        \n",
        "        for i in range(children):\n",
        "            if(money>=7):\n",
        "                res+=1\n",
        "                money-=7\n",
        "            elif(money==3 and (i<children-1)):\n",
        "                money-=3\n",
        "            elif(money==3 and (i==children-1)):\n",
        "                res-=1\n",
        "                money-=3                \n",
        "            elif(money<=0):\n",
        "                break\n",
        "            if(res==children and money>0):\n",
        "                res-=1\n",
        "                break\n",
        "                \n",
        "        return res"
      ],
      "metadata": {
        "id": "pxo2xGUH8rx1"
      },
      "execution_count": null,
      "outputs": []
    },
    {
      "cell_type": "markdown",
      "source": [
        "##### **Задача 2.**\n",
        "\n",
        "https://leetcode.com/problems/maximize-greatness-of-an-array/"
      ],
      "metadata": {
        "id": "pF_CyqPA9rWP"
      }
    },
    {
      "cell_type": "markdown",
      "source": [
        "Мое решение:\n",
        "\n",
        "Мое решение проходит по времени, но он не самое эффективное + вообще, сложновато.\n",
        "\n",
        "1) завожу словарик, где ключ -- значение элемента массива nums, а значение -- частота этого элемента в nums. В процессе решения я буду его менять. Смысл словарика -- это мешок элементов, которые я могу использовать для создания массива perm (который я создаю по сути слева направо линейно). \n",
        "\n",
        "2) Завожу дополнительный массив srt -- отсортированный по возрастанию массив nums БЕЗ ПОВТОРЕНИЙ (сделал это путем локального превращения в словарик, хз, лучший ли это выбор).\n",
        "\n",
        "3) Для каждого элемента x в nums бинарным поиском ищу в srt место, где встречается этот элемент. Дальше движусь вперед по srt, пока не наткнусь на первый элемент, имеющийся в словарике. Т.е. я нашел наименьший еще неиспользованный элемент массива nums, который больше, чем x. Назовем его x_min. В голове заменяю x на этот x_min, делаю +1 к ответу, а в коде уменьшаю его значение в словарике. Если x_min не нашелся для данного x, то на этой позиции в массиве мне ответ уже не увеличить, так что переходит к следующему элементу nums просто.\n",
        "\n",
        "Время: Сортировка + бинарный поиск в цикле -- нот гуд. $O(n\\log(n)+n\\log(m))=O(n\\log(nm))=O(n\\log(n)).$\n",
        "\n",
        "Память: $O(n)$ на словарик и новый массив."
      ],
      "metadata": {
        "id": "uO561V3v9xWt"
      }
    },
    {
      "cell_type": "code",
      "source": [
        "class Solution:\n",
        "    def maximizeGreatness(self, nums: List[int]) -> int:        \n",
        "        dic={}\n",
        "        for x in nums:\n",
        "            if(x not in dic):\n",
        "                dic[x]=1\n",
        "            else:\n",
        "                dic[x]+=1\n",
        "        \n",
        "        \n",
        "        srt=list(dict.fromkeys(nums))\n",
        "        srt=sorted(srt)\n",
        "        \n",
        "        def bin_search(arr, low, high, x):\n",
        "            if high >= low:\n",
        "                mid = (high + low) // 2\n",
        "                if arr[mid] == x:\n",
        "                    return mid\n",
        "                elif arr[mid] > x:\n",
        "                    return bin_search(arr, low, mid - 1, x)\n",
        "                else:\n",
        "                    return bin_search(arr, mid + 1, high, x)\n",
        "            else:\n",
        "                return -1\n",
        "        \n",
        "        \n",
        "        res=0\n",
        "        n=len(nums)\n",
        "        m=len(srt)\n",
        "        for i in range(n):\n",
        "            ind=bin_search(srt,0,m-1,nums[i])\n",
        "            while( (ind+1<m) and (srt[ind+1] not in dic) ):\n",
        "                ind+=1\n",
        "            if(ind+1==m):\n",
        "                continue\n",
        "            \n",
        "            res+=1\n",
        "            dic[srt[ind+1]]-=1\n",
        "            if(dic[srt[ind+1]]==0):\n",
        "                dic.pop(srt[ind+1])\n",
        "                \n",
        "        return res"
      ],
      "metadata": {
        "id": "z_WO4JlS1WFC"
      },
      "execution_count": null,
      "outputs": []
    },
    {
      "cell_type": "markdown",
      "source": [
        "# Оптимальные решения"
      ],
      "metadata": {
        "id": "LEmH5e439iaW"
      }
    },
    {
      "cell_type": "markdown",
      "source": [
        "##### **Задача 1.**\n",
        "\n",
        "https://leetcode.com/problems/distribute-money-to-maximum-children/"
      ],
      "metadata": {
        "id": "6zwIXwtU-GTt"
      }
    },
    {
      "cell_type": "markdown",
      "source": [
        "Решение:\n",
        "\n",
        "Все равно суть задачи остается в комбинации нескольких if-else, но можно сделать это без итерирования по всем детям, а более математически. Логика то же самая, что у меня, но тут я ее более аккуратно расписываю и оказывается, что задача не на прогу.\n",
        "\n",
        "1) даем всем по 1 доллару. Если денег отсалось 0 или меньше -- выходим с -1.\n",
        "\n",
        "2) если у нас денег больше, чем нужно на каждого, чтобы дать по 7 -- выдаем children-1 (портим одного остатком денег). \n",
        "\n",
        "3) Если денег осталось ровно столько, чтобы дать всем по 7 баксов, даем ответ children.\n",
        "\n",
        "4) если всем кроме одного можем дать 7 баксов, а на одного остается 3, то возвращаем children-2 (приходится испортить еще одного, а этот так и не будет иметь 8).\n",
        "\n",
        "\n",
        "5) Если денег меньше, чем чтобы выдать 7 на каждого (но нет ситуации (4) ), то выдаем money//7.\n",
        "\n",
        "\n",
        "Время: $O(1)$.\n",
        "\n",
        "Память: $O(1)$.\n",
        "\n",
        "Код пишу такой:"
      ],
      "metadata": {
        "id": "jn4MVA-7-GYX"
      }
    },
    {
      "cell_type": "code",
      "source": [
        "class Solution:\n",
        "    def distMoney(self, money: int, children: int) -> int:\n",
        "        money-=children\n",
        "        if(money<0):\n",
        "            return -1\n",
        "        \n",
        "        if(money>7*children):\n",
        "            return children-1\n",
        "        \n",
        "        if(money==7*children):\n",
        "            return children\n",
        "\n",
        "        if(money==7*(children-1)+3):\n",
        "            return children-2\n",
        "\n",
        "        if(money<children*7):\n",
        "            return money//7"
      ],
      "metadata": {
        "id": "-yQfSOey1iJS"
      },
      "execution_count": null,
      "outputs": []
    },
    {
      "cell_type": "markdown",
      "source": [
        "##### **Задача 2.**\n",
        "\n",
        "https://leetcode.com/problems/maximize-greatness-of-an-array/"
      ],
      "metadata": {
        "id": "1eytYppx-G5G"
      }
    },
    {
      "cell_type": "markdown",
      "source": [
        "Решение (не оч хорошее):\n",
        "\n",
        "Если и мутить сортировку, как я, то без всего этого ненужного пота со словариком, дополнительным массивом, дополнительным бинарным поиском тыщу раз. Можно просто отсортировать массив nums и сразу двумя поинтерами в отсортированным массиве сделать все абсолютно то же самое, что я делаю в своем решении. По-быстрому набросал код, из него все ясно.\n",
        "\n",
        "Время: $O(n\\log(n))$.\n",
        "\n",
        "Память: $O(1)$."
      ],
      "metadata": {
        "id": "zZpaZk2x-G8b"
      }
    },
    {
      "cell_type": "code",
      "source": [
        "class Solution:\n",
        "    def maximizeGreatness(self, nums: List[int]) -> int: \n",
        "        n=len(nums)\n",
        "        if(n==1):\n",
        "            return 0\n",
        "\n",
        "        nums.sort()\n",
        "        pt2=1\n",
        "        res=0\n",
        "        for i in range(n):\n",
        "            pt1=i\n",
        "            while(nums[pt2]==nums[pt1]):\n",
        "                if(pt2==n-1):\n",
        "                    return res\n",
        "                pt2+=1\n",
        "            # теперь на nums[pt2] это первое число, большее nums[pt1] \n",
        "            res+=1\n",
        "            if(pt2==n-1):\n",
        "                return res\n",
        "            else:\n",
        "                pt2+=1\n",
        "        return res"
      ],
      "metadata": {
        "id": "VvjCv8-7uAs1"
      },
      "execution_count": null,
      "outputs": []
    },
    {
      "cell_type": "markdown",
      "source": [
        "Решение (**самое оптимальное**):\n",
        "\n",
        "Если бы у нас все элементы nums встречались бы лишь по разу, то могли бы просто взять perms, где на место i-ого по возрастанию элемента ставим (i+1)-ый, а на место наибольшего элемента ставим наименьший -- т.е. взять результат действия циклической перестановки. Это дало бы нам результат $n-1$.\n",
        "\n",
        "Теперь пусть у нас есть повторения в nums. Разобьем его на подмножества $S_1,S_2,\\ldots,S_m$, в каждом из которых нет повторений. Всего их минимум столько же, какова максимальная частота повторения элемента из nums. Для каждого из этих подмножеств возьмем описанную циклическую подстановку. Получаем ответ $\\sum\\limits_{i=1}^m(|S_i|-1)=n-m.$\n",
        "\n",
        "Имхо, если бы в эту задачу поставить линейное ограничение по времени, на литкоде можно было бы отмечать ее как хард. Решили бы только математики или проггеры с очень крутой интуицией.\n",
        "\n",
        "Время: $O(n)$.\n",
        "\n",
        "Память: $O(n)$.\n",
        "\n"
      ],
      "metadata": {
        "id": "SeTv6W24kGhR"
      }
    },
    {
      "cell_type": "code",
      "source": [
        "class Solution:\n",
        "    def maximizeGreatness(self, nums: List[int]) -> int:\n",
        "        dic=dict()\n",
        "        for x in nums:\n",
        "            if x not in dic:\n",
        "                dic[x]=1\n",
        "            else:\n",
        "                dic[x]+=1\n",
        "\n",
        "        return len(nums)-max(dic.values())"
      ],
      "metadata": {
        "id": "uuTE9zDP2dEq"
      },
      "execution_count": null,
      "outputs": []
    },
    {
      "cell_type": "markdown",
      "source": [
        "##### **Задача 3.**\n",
        "\n",
        "https://leetcode.com/problems/find-score-of-an-array-after-marking-all-elements/"
      ],
      "metadata": {
        "id": "7di3zK_k-HaJ"
      }
    },
    {
      "cell_type": "markdown",
      "source": [
        "Решение:\n",
        "\n",
        "Может, самая простая задача в контесте (хотя почему-то Q3). Можно решить в лоб кучей. Код очевидный, комментировать особо не стоит.\n",
        "\n",
        "Время: Цикл с pop дает $O(\\sum\\limits_{i=1}^n \\log(i))=O(\\log(n!))=O(n\\log(n)).$ Доказывать последнее равенство классов мне в лом.\n",
        "\n",
        "Память: $O(n)$."
      ],
      "metadata": {
        "id": "rcvaGg_y-Hdl"
      }
    },
    {
      "cell_type": "code",
      "source": [
        "class Solution:\n",
        "    def findScore(self, nums: List[int]) -> int:\n",
        "        hp=[(value, i) for i, value in enumerate(nums)] # именно такой порядок, чтобы heapify в компараторе юзало именно value -- первую координату\n",
        "        print(hp)\n",
        "        heapq.heapify(hp)\n",
        "        res=0\n",
        "        marked=set()\n",
        "        while(len(hp)>0):\n",
        "            value, i = heapq.heappop(hp)\n",
        "            if i not in marked:\n",
        "                print(value)\n",
        "                res+=value\n",
        "                marked.add(i-1)\n",
        "                marked.add(i)\n",
        "                marked.add(i+1)           \n",
        "        return res"
      ],
      "metadata": {
        "id": "QVtTh9g01rGD"
      },
      "execution_count": null,
      "outputs": []
    },
    {
      "cell_type": "markdown",
      "source": [
        "##### **Задача 4.**\n",
        "\n",
        "https://leetcode.com/problems/minimum-time-to-repair-cars/"
      ],
      "metadata": {
        "id": "jN8FUgWW-H0_"
      }
    },
    {
      "cell_type": "markdown",
      "source": [
        "Решение:\n",
        "\n",
        "Идея опять весьма простая и строгая. Проверить для конкретного $t$, можно ли обслужить все машины за $t$ минут легко -- просто нагружаем каждого механика максимально на $\\leq t$ минут и смотрим, успеют ли они вместе обработать все машины. Эту проверка можно еще и ускорить предварительно отсортировав массив. После этого остается лишь найти минимальное $t$ бинарным поиском. Изи. Я разве что сначала пробовал нестрогий жадный алгоритм (сохранил его в заметке в Obsidian на всякий случай), но он, видимо, просто не верен.\n",
        "\n",
        "Время: $O(n\\log(n)+n\\log(high-low))=O(n\\log(ncars))=O(n\\log(n)).$\n",
        "\n",
        "Память: $O(1)$."
      ],
      "metadata": {
        "id": "suBKI1xI-H5F"
      }
    },
    {
      "cell_type": "code",
      "source": [
        "class Solution:\n",
        "    def repairCars(self, ranks: List[int], cars: int) -> int:\n",
        "\n",
        "        ranks.sort()\n",
        "        n=len(ranks)\n",
        "        def is_possible(k,cars,n): #справимся ли за k минут?\n",
        "            res=0\n",
        "            for i in range(n):\n",
        "                res+=int(sqrt(k//ranks[i]))\n",
        "                if(res>=cars):\n",
        "                    return True\n",
        "            return False\n",
        "\n",
        "        def bin_search(arr, low, high):\n",
        "            if high > low:\n",
        "                mid = (high + low) // 2\n",
        "                print(mid)\n",
        "                if is_possible(mid,cars,n):\n",
        "                    return bin_search(arr, low, mid - 1)\n",
        "                else:\n",
        "                    return bin_search(arr, mid + 1, high)\n",
        "            else:\n",
        "                return high\n",
        "        \n",
        "        res=bin_search(range(1,ranks[0]*cars**2+1),1,ranks[0]*cars**2)\n",
        "        if(not is_possible(res,cars,n)): # мини-костыль, чтобы не париться\n",
        "            return res+1\n",
        "        return res"
      ],
      "metadata": {
        "id": "F-AiprF61zXR"
      },
      "execution_count": null,
      "outputs": []
    }
  ]
}