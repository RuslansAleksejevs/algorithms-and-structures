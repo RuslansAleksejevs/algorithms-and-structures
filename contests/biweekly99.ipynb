{
  "nbformat": 4,
  "nbformat_minor": 0,
  "metadata": {
    "colab": {
      "provenance": [],
      "authorship_tag": "ABX9TyMR8bIvxD2Graf6/1Yrf68U",
      "include_colab_link": true
    },
    "kernelspec": {
      "name": "python3",
      "display_name": "Python 3"
    },
    "language_info": {
      "name": "python"
    }
  },
  "cells": [
    {
      "cell_type": "markdown",
      "metadata": {
        "id": "view-in-github",
        "colab_type": "text"
      },
      "source": [
        "<a href=\"https://colab.research.google.com/github/RuslansAleksejevs/algorithms-and-structures/blob/main/contests/biweekly99.ipynb\" target=\"_parent\"><img src=\"https://colab.research.google.com/assets/colab-badge.svg\" alt=\"Open In Colab\"/></a>"
      ]
    },
    {
      "cell_type": "markdown",
      "source": [
        "Во время контеста решил 3 задачи из 4."
      ],
      "metadata": {
        "id": "e957lRKQ8VCc"
      }
    },
    {
      "cell_type": "markdown",
      "source": [
        "# Мои решения"
      ],
      "metadata": {
        "id": "qOS11lMp8cIM"
      }
    },
    {
      "cell_type": "markdown",
      "source": [
        "##### **Задача 1.**\n",
        "\n",
        "https://leetcode.com/problems/split-with-minimum-sum/description/"
      ],
      "metadata": {
        "id": "2QuhcR478gA_"
      }
    },
    {
      "cell_type": "markdown",
      "source": [
        "Мое решение:\n",
        "\n",
        "Жадный алгоритм. Числа должны быть одинаковой длины (или, если это невозможно, длина должна отличаться на 1), чтобы избежать ненужного увеличения кол-ва разрядов (и, следовательно, большей суммы). Далее просто берем массив всех цифр, сортируем его по возрастанию и пихаем по очереди элементы из начала массива то в num1, то в num2.\n",
        "\n",
        "Время: $O(n \\log(n))$, где $n$ -- количество цифр в num.\n",
        "\n",
        "Память: $O(n)$."
      ],
      "metadata": {
        "id": "IpkaEZVC9dC5"
      }
    },
    {
      "cell_type": "code",
      "source": [
        "class Solution:\n",
        "    def splitNum(self, num: int) -> int:\n",
        "        num1=\"\"\n",
        "        num2=\"\"\n",
        "        mylist=[int(i) for i in str(num)]\n",
        "        mylist.sort()\n",
        "        n=len(mylist)\n",
        "        curr=1\n",
        "        for i in range(n):\n",
        "            if(curr==1):\n",
        "                num1+=str(mylist[i])\n",
        "                curr=2\n",
        "            else:\n",
        "                num2+=str(mylist[i])\n",
        "                curr=1\n",
        "        return int(num1)+int(num2)"
      ],
      "metadata": {
        "id": "aoCib0aC9h33"
      },
      "execution_count": 1,
      "outputs": []
    },
    {
      "cell_type": "markdown",
      "source": [
        "##### **Задача 2.**\n",
        "\n",
        "https://leetcode.com/problems/count-total-number-of-colored-cells/"
      ],
      "metadata": {
        "id": "pF_CyqPA9rWP"
      }
    },
    {
      "cell_type": "markdown",
      "source": [
        "Мое решение:\n",
        "\n",
        "Тупо замечаю рекуррентное соотношение, откуда все сразу решается.\n",
        "\n",
        "Время: $O(n)$.\n",
        "\n",
        "Память: $O(1)$."
      ],
      "metadata": {
        "id": "uO561V3v9xWt"
      }
    },
    {
      "cell_type": "code",
      "source": [
        "class Solution:\n",
        "    def coloredCells(self, n: int) -> int:\n",
        "        if(n==1):\n",
        "            return 1\n",
        "        \n",
        "        \n",
        "        res=1\n",
        "        diff=0\n",
        "        for i in range(1,n+1):\n",
        "            dif=4*(i-1)\n",
        "            res+=dif # это f(i)\n",
        "            \n",
        "        return res"
      ],
      "metadata": {
        "id": "7F4_qs949r3y"
      },
      "execution_count": null,
      "outputs": []
    },
    {
      "cell_type": "markdown",
      "source": [
        "##### **Задача 3.**\n",
        "\n",
        "https://leetcode.com/problems/count-ways-to-group-overlapping-ranges/"
      ],
      "metadata": {
        "id": "rp-sQ3U09sD6"
      }
    },
    {
      "cell_type": "markdown",
      "source": [
        "Мое решение:\n",
        "\n",
        "Если сможем склеить пересекающиеся отрезки так, чтобы у нас остался только набор непересекающихся в количество $N$, то из простой комбинаторики следует, что ответ $2^N$. Как будем клеить отрезки? Например, с помощью стека. Сортируем отрезки по левым концам, далее суем левый конец первого отрезка в стек. Идем дальше, склеиваем, пока есть пересечения. Когда пересечения кончились, суем новый отрезок в стек. В итоге в стеке только дизьюнктные отрезки.\n",
        "\n",
        "Время: $O(n\\log(n))$, где $n$ -- количество отрезков в начале.\n",
        "\n",
        "Память: $O(m)$, где $m$ -- количество склеенных непересекающихся отрезков."
      ],
      "metadata": {
        "id": "ZJZBhZHO9yFp"
      }
    },
    {
      "cell_type": "code",
      "source": [
        "def solve(segments):\n",
        "    segments.sort() # хотел засунуть внутрь key = lambda x: x[0], но и без нее работает.\n",
        "    stack = []\n",
        "    stack.append(segments[0])\n",
        "    for i in segments[1:]:\n",
        "        if(stack[-1][0]<=i[0]<=stack[-1][-1]):\n",
        "            stack[-1][-1]=max(stack[-1][-1],i[-1])\n",
        "        else:\n",
        "            stack.append(i)\n",
        "    return stack\n",
        "    \n",
        "    \n",
        "class Solution:\n",
        "    def countWays(self, ranges: List[List[int]]) -> int:\n",
        "        stck=solve(ranges)\n",
        "        return (2**(len(stck)))%1000000007"
      ],
      "metadata": {
        "id": "KtZ727Fx9sQN"
      },
      "execution_count": null,
      "outputs": []
    },
    {
      "cell_type": "markdown",
      "source": [
        "# Оптимальные решения"
      ],
      "metadata": {
        "id": "LEmH5e439iaW"
      }
    },
    {
      "cell_type": "markdown",
      "source": [
        "##### **Задача 1.**\n",
        "\n",
        "https://leetcode.com/problems/split-with-minimum-sum/description/"
      ],
      "metadata": {
        "id": "6zwIXwtU-GTt"
      }
    },
    {
      "cell_type": "markdown",
      "source": [
        "Абсолютно то же, что у меня, но массив и сортировку можем заменить на кучу. Энивей придется в цикле $n$ раз брать минимальный элемент, так что все равно $O(n\\log(n))$. \n",
        "Тбх, не уверен, что нельзя лучше.\n"
      ],
      "metadata": {
        "id": "jn4MVA-7-GYX"
      }
    },
    {
      "cell_type": "markdown",
      "source": [
        "##### **Задача 2.**\n",
        "\n",
        "https://leetcode.com/problems/count-total-number-of-colored-cells/"
      ],
      "metadata": {
        "id": "1eytYppx-G5G"
      }
    },
    {
      "cell_type": "markdown",
      "source": [
        "Лучше моего, очевидно, невозможно. Имхо, самое концептуально правильное (с точки зрения именно проги) -- это решить рекурсивно с помощью какого-то DFS. "
      ],
      "metadata": {
        "id": "zZpaZk2x-G8b"
      }
    },
    {
      "cell_type": "markdown",
      "source": [
        "##### **Задача 3.**\n",
        "\n",
        "https://leetcode.com/problems/count-ways-to-group-overlapping-ranges/"
      ],
      "metadata": {
        "id": "7di3zK_k-HaJ"
      }
    },
    {
      "cell_type": "markdown",
      "source": [
        "Решение то же самое, что и у меня, но можно не хранить сами непересекающиеся отрезки, а просто считать их количество по пути.\n",
        "\n",
        "Время: $O(n\\log(n))$.\n",
        "\n",
        "Память: $O(1)$."
      ],
      "metadata": {
        "id": "rcvaGg_y-Hdl"
      }
    },
    {
      "cell_type": "code",
      "source": [
        "class Solution:\n",
        "    def countWays(self, ranges: List[List[int]]) -> int:\n",
        "        end_max, res = -1, 1\n",
        "        for start_i, end_i in sorted(ranges):\n",
        "            res = res * (2 if end_max < start_i else 1) % 1000000007\n",
        "            end_max = max(end_max, end_i)\n",
        "        return res"
      ],
      "metadata": {
        "id": "dbyT29-c-Hqm"
      },
      "execution_count": null,
      "outputs": []
    },
    {
      "cell_type": "markdown",
      "source": [
        "##### **Задача 4.**\n",
        "\n",
        "https://leetcode.com/problems/count-number-of-possible-root-nodes/"
      ],
      "metadata": {
        "id": "jN8FUgWW-H0_"
      }
    },
    {
      "cell_type": "markdown",
      "source": [
        "Решение:\n",
        "Потно, но задача отличная. Мое решение вдохновлено https://www.youtube.com/watch?v=uKu9sIbMNCQ, но тут лектор весьма хуевый, так что и половины не посмотрел -- уловил привкус, а остальное сам додумывал.\n",
        "\n",
        "1) Для начала решим такую задачу: пусть мы как-то выбрали вершину v. Хотим проверить, может ли вершина v оказаться корнем этого дерева? Решаем эту задачу следующим образом. Превратим наш массив догадок guesses в множество guesses_set. Еще заводим пустое множество edges_set. Проходимся во дереву DFS для выбранной вершины v и проверяем каждое ребро на то, есть ли оно в множестве наших догадок. Каждое ребро, которое реально там есть, добавляем в edges_set. Если в итоге в edges_set элементов не меньше $k$, то +1 к результату. Реализую это все в рекурсивной функции dfs1.\n",
        "\n",
        "Можно теперь пробежаться по всем $n$ вершинам и для каждой вызвать dfs1. Но по времени на больших графах это не работает, т.к. по времени $O(n^2)$, ведь DFS это $O(n)$.\n",
        "\n",
        "Вот этот код:"
      ],
      "metadata": {
        "id": "suBKI1xI-H5F"
      }
    },
    {
      "cell_type": "code",
      "source": [
        "class Solution:\n",
        "    def rootCount(self, edges: List[List[int]], guesses: List[List[int]], k: int) -> int:\n",
        "        n=len(edges)+1\n",
        "        guesses_set=set([tuple(x) for x in guesses])\n",
        "        edges_set=set()\n",
        "\n",
        "        g=[[] for i in range(n)] # не матрица смежности графа\n",
        "        for e in edges:\n",
        "            g[e[0]].append(e[1])\n",
        "            g[e[1]].append(e[0])\n",
        "        # т.е. теперь g это матрица, где g[i] -- список вершин, соединенных с вершиной i\n",
        "\n",
        "        def dfs1(v,k,prev):\n",
        "            for ne in g[v]: # смотрим на всех соседей v\n",
        "                if(ne==prev): # эта строчка, чтобы не зациклились\n",
        "                    continue\n",
        "                p=(v,ne)\n",
        "                if(p in guesses_set):\n",
        "                    edges_set.add(p)\n",
        "                dfs1(ne,k,v)\n",
        "            if(len(edges_set)>=k):\n",
        "                return True\n",
        "            else:\n",
        "                return False\n",
        "        \n",
        "        res=0\n",
        "        for i in range(n):\n",
        "            if(dfs1(i,k,-1)):\n",
        "                res+=1\n",
        "            edges_set=set()\n",
        "\n",
        "        return res"
      ],
      "metadata": {
        "id": "JfoMLyKk-IFd"
      },
      "execution_count": null,
      "outputs": []
    },
    {
      "cell_type": "markdown",
      "source": [
        "Нужно оптимизировать.\n",
        "\n",
        "2) Оказывается, если проверили для одной вершины, может ли она быть корнем и сохранили соответствующее множество edges_set, то для соседних вершин не нужно проводить всю процедуру заново.\n",
        "\n",
        "Берем соседа вершины v. Назовем его v'. Может ли v' быть вершиной? Если [v,v'] было в edges_set, удаляем его оттуда (ведь v уже не считаем родителем v', так что теперь эта догадка была неверной). Далее, для всех остальных ребер, выходящих из v все чиллово, все как надо, ведь такие догадки у нас делаются и в этом случае. Более того, для всех остальных ребер, выходящих из v', все также чиллово по той же причине. Т.е. нам только и нужно было проверить ребро [v,v']. Ну, еще нужно было проверить ребро [v',v] только -- если оно есть в guesses_set, то добавляем его в edges_set.\n",
        "\n",
        "Так что нам нужно для каждого соседа v замутить функцию dfs2, которая в его компоненет связности, воображая вершину v выколотой, проделывает с каждой вершиной описанное в этом пункте. Тут я уже не оч подробно пишу, т.к. код уже написал и там все весьма строго,я в комментах отобразил нужное, я надеюсь.\n",
        "\n",
        "Финальный код:"
      ],
      "metadata": {
        "id": "1FxWpAZ-hs8Q"
      }
    },
    {
      "cell_type": "code",
      "source": [
        "class Solution:\n",
        "    def rootCount(self, edges: List[List[int]], guesses: List[List[int]], k: int) -> int:\n",
        "        n=len(edges)+1\n",
        "        guesses_set=set([tuple(x) for x in guesses])\n",
        "        edges_set=set()\n",
        "\n",
        "        g=[[] for i in range(n)] # это не матрица смежности графа. Это матрица соседей и только их. В комменте нижу описываю, что это такое.\n",
        "        for e in edges:\n",
        "            g[e[0]].append(e[1])\n",
        "            g[e[1]].append(e[0])\n",
        "        # т.е. теперь g это матрица, где g[i] -- список вершин, соединенных с вершиной i\n",
        "\n",
        "        def dfs1(v,prev):\n",
        "            for ne in g[v]: # смотрим на всех соседей v\n",
        "                if(ne==prev): # эта строчка, чтобы не зациклились\n",
        "                    continue\n",
        "                p=(v,ne)\n",
        "                if(p in guesses_set):\n",
        "                    edges_set.add(p)\n",
        "                dfs1(ne,v)\n",
        "\n",
        "\n",
        "        def dfs2(v,prev,k):\n",
        "            indicator1=False\n",
        "            indicator2=False\n",
        "            if( (prev,v) in edges_set ):\n",
        "                indicator1=True\n",
        "                edges_set.remove((prev,v))\n",
        "            if( (v,prev) in guesses_set ):\n",
        "                indicator2=True\n",
        "                edges_set.add((v,prev))\n",
        "            if(len(edges_set)>=k):\n",
        "                res[0]+=1\n",
        "            for ne in g[v]:\n",
        "                if(ne==prev):\n",
        "                    continue\n",
        "                dfs2(ne,v,k)\n",
        "            \n",
        "            #сначала забыл следующий блок, а он очень важный. В основном коде программы dfs2 мы будем вызывать для всех соседей той вершины, к которой мы применили dfs1, поэтому нужно, чтобы в итоге наше множество было таким, как в самом начале, это очень важно. Вернем его в предыдущее состояние.\n",
        "            if(indicator1):\n",
        "                edges_set.add((prev,v))\n",
        "            if(indicator2):\n",
        "                edges_set.remove((v,prev))\n",
        "\n",
        "        res=[0] \n",
        "        dfs1(0,-1) #главную работу сделали здесь\n",
        "        if(len(edges_set)>=k):\n",
        "            res[0]+=1 \n",
        "\n",
        "        for ne in g[0]:\n",
        "            dfs2(ne,0,k)\n",
        "\n",
        "        return res[0]"
      ],
      "metadata": {
        "id": "RqEQqhHGqds8"
      },
      "execution_count": null,
      "outputs": []
    },
    {
      "cell_type": "markdown",
      "source": [
        "Время: $O(n)$, хотя чел из видео бредит, что тут $O(n\\log(n))$, но это рил бред, имхо.\n",
        "\n",
        "Память: $O(k)$ идет на множество в худшем случае."
      ],
      "metadata": {
        "id": "9r8EGuohqd81"
      }
    }
  ]
}